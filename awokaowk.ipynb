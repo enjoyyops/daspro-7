{
 "cells": [
  {
   "cell_type": "code",
   "execution_count": 15,
   "id": "5503048a-4ced-4089-acbb-aee8a4da7b9f",
   "metadata": {},
   "outputs": [
    {
     "name": "stdout",
     "output_type": "stream",
     "text": [
      "Nama Buah : Apple\n",
      "Nama Buah : Banana\n",
      "Nama Buah : Watermelon\n",
      "Nama Buah : Pineaplle\n"
     ]
    }
   ],
   "source": [
    "fruits = [\"Apple\",\"Banana\",\"Watermelon\",\"Pineaplle\"]\n",
    "for fruit in fruits :\n",
    "    print(f\"Nama Buah : {fruit}\")"
   ]
  },
  {
   "cell_type": "code",
   "execution_count": 19,
   "id": "663bf9f6-7c22-43aa-9323-3213eb927261",
   "metadata": {},
   "outputs": [
    {
     "name": "stdout",
     "output_type": "stream",
     "text": [
      "Nilai Rata-rata : 71.42857142857143\n"
     ]
    }
   ],
   "source": [
    "nilaiPhyton = [80,100,90,70,70,50,40]\n",
    "total = 0\n",
    "for nilai in nilaiPhyton:\n",
    "    total += nilai\n",
    "\n",
    "rata2 = total / len(nilaiPhyton)\n",
    "print(f\"Nilai Rata-rata : {rata2}\")"
   ]
  },
  {
   "cell_type": "code",
   "execution_count": 23,
   "id": "f5137367-8c9b-452f-acd8-e0ccecb9a899",
   "metadata": {},
   "outputs": [
    {
     "name": "stdout",
     "output_type": "stream",
     "text": [
      "0 : jan\n",
      "1 : feb\n",
      "2 : mar\n",
      "3 : apr\n",
      "4 : mei\n",
      "5 : jun\n",
      "6 : jul\n",
      "7 : aug\n",
      "8 : sep\n",
      "9 : okt\n",
      "10 : nov\n",
      "11 : des\n"
     ]
    }
   ],
   "source": [
    "month = [\"jan\",\"feb\",\"mar\",\"apr\",\"mei\",\"jun\",\"jul\",\"aug\",\"sep\",\"okt\",\"nov\",\"des\"]\n",
    "for i, m in enumerate(month):\n",
    "    print(f\"{i} : {m}\")"
   ]
  },
  {
   "cell_type": "code",
   "execution_count": 29,
   "id": "def1c4e4-311f-4c9c-8912-b97dac50f74b",
   "metadata": {},
   "outputs": [
    {
     "name": "stdin",
     "output_type": "stream",
     "text": [
      "Isikan Nama Kampus: Universitas Lingga Buana\n"
     ]
    },
    {
     "name": "stdout",
     "output_type": "stream",
     "text": [
      "U adalah Huruf Vokal|1\n",
      "n adalah Bukan Huruf Vokal|1\n",
      "i adalah Huruf Vokal|2\n",
      "v adalah Bukan Huruf Vokal|2\n",
      "e adalah Huruf Vokal|3\n",
      "r adalah Bukan Huruf Vokal|3\n",
      "s adalah Bukan Huruf Vokal|3\n",
      "i adalah Huruf Vokal|4\n",
      "t adalah Bukan Huruf Vokal|4\n",
      "a adalah Huruf Vokal|5\n",
      "s adalah Bukan Huruf Vokal|5\n",
      "  adalah Bukan Huruf Vokal|5\n",
      "L adalah Bukan Huruf Vokal|5\n",
      "i adalah Huruf Vokal|6\n",
      "n adalah Bukan Huruf Vokal|6\n",
      "g adalah Bukan Huruf Vokal|6\n",
      "g adalah Bukan Huruf Vokal|6\n",
      "a adalah Huruf Vokal|7\n",
      "  adalah Bukan Huruf Vokal|7\n",
      "B adalah Bukan Huruf Vokal|7\n",
      "u adalah Huruf Vokal|8\n",
      "a adalah Huruf Vokal|9\n",
      "n adalah Bukan Huruf Vokal|9\n",
      "a adalah Huruf Vokal|10\n",
      "Jumlah Total Huruf Vokal : 10\n"
     ]
    }
   ],
   "source": [
    "kampus = input(\"Isikan Nama Kampus:\")\n",
    "listVokal = [\"a\",\"i\",\"u\",\"e\",\"o\",\"A\",\"I\",\"U\",\"E\",\"O\"]\n",
    "total = 0\n",
    "for karakter in kampus :\n",
    "    if karakter in listVokal:\n",
    "        total +=1\n",
    "        isVokal = \"Huruf Vokal\"\n",
    "    else:\n",
    "        isVokal = \"Bukan Huruf Vokal\"\n",
    "    print(f\"{karakter} adalah {isVokal}|{total}\") #berapa banyak jumlah huruf vokal 'a,i,u,e,o'\n",
    "print(f\"Jumlah Total Huruf Vokal : {total}\")"
   ]
  },
  {
   "cell_type": "code",
   "execution_count": 31,
   "id": "03bef048-0bb7-4897-8cde-44d1224c08ba",
   "metadata": {},
   "outputs": [
    {
     "name": "stdout",
     "output_type": "stream",
     "text": [
      "[1, 4, 9, 16, 25]\n"
     ]
    }
   ],
   "source": [
    "#looping list compherension\n",
    "data = [1,2,3,4,5]\n",
    "pangkat = [x**2 for x in data]\n",
    "print(pangkat)"
   ]
  },
  {
   "cell_type": "code",
   "execution_count": 33,
   "id": "f0057bc7-3aef-42b2-a4fe-4bb5b234e876",
   "metadata": {},
   "outputs": [
    {
     "name": "stdout",
     "output_type": "stream",
     "text": [
      "Nilai i adalah:0\n",
      "Nilai i adalah:1\n",
      "Nilai i adalah:2\n",
      "Nilai i adalah:3\n",
      "Nilai i adalah:4\n",
      "Nilai i adalah:5\n",
      "Nilai i adalah:6\n",
      "Nilai i adalah:7\n",
      "Nilai i adalah:8\n",
      "Nilai i adalah:9\n"
     ]
    }
   ],
   "source": [
    "#range\n",
    "for i in range(10):\n",
    "    print(f\"Nilai i adalah:{i}\")"
   ]
  },
  {
   "cell_type": "code",
   "execution_count": 35,
   "id": "b6562661-7e4d-45a2-809a-a115a28a3854",
   "metadata": {},
   "outputs": [
    {
     "name": "stdout",
     "output_type": "stream",
     "text": [
      "Nilai j adalah:5\n",
      "Nilai j adalah:6\n",
      "Nilai j adalah:7\n",
      "Nilai j adalah:8\n",
      "Nilai j adalah:9\n"
     ]
    }
   ],
   "source": [
    "for j in range (5,10):\n",
    "    print(f\"Nilai j adalah:{j}\")"
   ]
  },
  {
   "cell_type": "code",
   "execution_count": 113,
   "id": "3608fff2-d474-4e8c-94bb-49c15cd57347",
   "metadata": {},
   "outputs": [
    {
     "ename": "IndentationError",
     "evalue": "unindent does not match any outer indentation level (<string>, line 6)",
     "output_type": "error",
     "traceback": [
      "\u001b[1;36m  File \u001b[1;32m<string>:6\u001b[1;36m\u001b[0m\n\u001b[1;33m    if number % i == 0:\u001b[0m\n\u001b[1;37m                       ^\u001b[0m\n\u001b[1;31mIndentationError\u001b[0m\u001b[1;31m:\u001b[0m unindent does not match any outer indentation level\n"
     ]
    }
   ],
   "source": [
    "#Cek bilangan prima atau bukan prima\n",
    "number = int(input(\"Isikan Bilangan:\"))\n",
    "faktor=0\n",
    "for i in range (1,number+1):\n",
    "               print(i)\n",
    "    if number % i == 0:\n",
    "        faktor += 1\n",
    "if faktor==2:\n",
    "    print(f\"{number} adalah Bilangan Prima\")\n",
    "else:\n",
    "    print(f\"{number} adalah Bukan Prima\")"
   ]
  },
  {
   "cell_type": "code",
   "execution_count": 64,
   "id": "9767f5ca-e79a-4a7e-943a-3f3692497131",
   "metadata": {},
   "outputs": [
    {
     "name": "stdin",
     "output_type": "stream",
     "text": [
      "Isikan Bilangan: 10\n"
     ]
    },
    {
     "name": "stdout",
     "output_type": "stream",
     "text": [
      "10! = 1\n"
     ]
    }
   ],
   "source": [
    "#Faktorial\n",
    "# 3! = 3 * 2 * 1 = 6\n",
    "# 4! = 4 * 3 * 2 * 1 = 24\n",
    "total = 1\n",
    "number = int(input(\"Isikan Bilangan:\"))\n",
    "for i in range(1,number+1):\n",
    "    total*= 1\n",
    "print(f\"{number}! = {total}\")"
   ]
  },
  {
   "cell_type": "code",
   "execution_count": 70,
   "id": "84fa46a9-1c6d-41db-8510-cd9641b3c2ce",
   "metadata": {},
   "outputs": [
    {
     "name": "stdin",
     "output_type": "stream",
     "text": [
      "Isikan Bilangan: 10\n"
     ]
    },
    {
     "name": "stdout",
     "output_type": "stream",
     "text": [
      "1 -2 3 -4 5 -6 7 -8 9 -10 "
     ]
    }
   ],
   "source": [
    "# 1 -2 3 -4 5 -6 7 -8 9 -10\n",
    "number = int(input(\"Isikan Bilangan:\"))\n",
    "sign = 1\n",
    "for i in range (1,number+1):\n",
    "    result = sign * i\n",
    "    print(f\"{result} \", end='')\n",
    "    sign *= -1"
   ]
  },
  {
   "cell_type": "code",
   "execution_count": 80,
   "id": "18f15207-7975-4dbf-be22-2c4dc993c5f8",
   "metadata": {},
   "outputs": [
    {
     "name": "stdout",
     "output_type": "stream",
     "text": [
      "Jumlah Penonton Laki-laki:4\n",
      "Jumlah Penonton Perempuan:2\n"
     ]
    }
   ],
   "source": [
    "kursiBioskop = [\"L\",\"P\",\"L\",\"L\",\"P\",\"L\"]\n",
    "\n",
    "#Hitung jumlah penonton Laki-laki\n",
    "#Hitung jumlah penonton Perempuan\n",
    "\n",
    "totalLaki = 0 \n",
    "for jenis in kursiBioskop:\n",
    "    if jenis==\"L\":\n",
    "        totalLaki +=1\n",
    "print(f\"Jumlah Penonton Laki-laki:{totalLaki}\")\n",
    "print(f\"Jumlah Penonton Perempuan:{len(kursiBioskop)-totalLaki}\")"
   ]
  },
  {
   "cell_type": "code",
   "execution_count": 90,
   "id": "71aa2469-4d28-4fc6-a912-99c0acdf6375",
   "metadata": {},
   "outputs": [
    {
     "name": "stdout",
     "output_type": "stream",
     "text": [
      "Jumlah Couple:3\n"
     ]
    }
   ],
   "source": [
    "#Jumlah orang yang kemungkinan berpasangan\n",
    "\n",
    "kursi = [\"L\",\"P\",\"L\",\"L\",\"P\",\"L\"]\n",
    "couple = 0\n",
    "for i in range(len(kursi)-1):\n",
    "    if kursi[1] !=kursi[i+1]:\n",
    "        couple+=1\n",
    "print(f\"Jumlah Couple:{couple}\")"
   ]
  },
  {
   "cell_type": "code",
   "execution_count": 107,
   "id": "a0d17ef5-7acb-4a45-8eac-9818a3bbcc56",
   "metadata": {},
   "outputs": [
    {
     "name": "stdout",
     "output_type": "stream",
     "text": [
      "fname : Maling\n",
      "lname : Pangsit\n"
     ]
    }
   ],
   "source": [
    "data = {\n",
    "    \"fname\" : \"Maling\",\n",
    "    \"lname\" : \"Pangsit\"\n",
    "}\n",
    "for key,value in data.items():\n",
    "    print(f\"{key} : {value}\")"
   ]
  },
  {
   "cell_type": "code",
   "execution_count": null,
   "id": "082ed7eb-bae2-4e61-8519-6669aeeefbda",
   "metadata": {},
   "outputs": [],
   "source": []
  }
 ],
 "metadata": {
  "kernelspec": {
   "display_name": "Python [conda env:base] *",
   "language": "python",
   "name": "conda-base-py"
  },
  "language_info": {
   "codemirror_mode": {
    "name": "ipython",
    "version": 3
   },
   "file_extension": ".py",
   "mimetype": "text/x-python",
   "name": "python",
   "nbconvert_exporter": "python",
   "pygments_lexer": "ipython3",
   "version": "3.12.4"
  }
 },
 "nbformat": 4,
 "nbformat_minor": 5
}
